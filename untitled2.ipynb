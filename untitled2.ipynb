{
 "cells": [
  {
   "cell_type": "code",
   "execution_count": 1,
   "id": "dfed8770-009d-41ba-8d82-58e380694a1e",
   "metadata": {},
   "outputs": [
    {
     "name": "stdout",
     "output_type": "stream",
     "text": [
      "True\n",
      "Dictionary before removal: {'Arushi': 22, 'Mani': 21, 'Haritha': 21}\n",
      "Dictionary after removal: {'Arushi': 22, 'Haritha': 21}\n"
     ]
    }
   ],
   "source": [
    "# a. Check that the given data structure is a dictionary\n",
    "test_dict = {\"Arushi\": 22, \"Mani\": 21, \"Haritha\": 21}\n",
    "print(isinstance(test_dict, dict))  # Output: True\n",
    "\n",
    "# b. Print dictionary before removal\n",
    "print(\"Dictionary before removal:\", test_dict)\n",
    "\n",
    "# c. Using del to remove a dict: remove Mani\n",
    "del test_dict[\"Mani\"]\n",
    "\n",
    "# d. Print dictionary after removal\n",
    "print(\"Dictionary after removal:\", test_dict)"
   ]
  },
  {
   "cell_type": "code",
   "execution_count": 3,
   "id": "5325ec27-ae22-4b09-aa8f-24b27ab3ebbf",
   "metadata": {},
   "outputs": [
    {
     "name": "stdout",
     "output_type": "stream",
     "text": [
      "Key: x, Value: 500\n",
      "Key: y, Value: 5874\n",
      "Key: z, Value: 560\n"
     ]
    }
   ],
   "source": [
    "# Given the dictionary\n",
    "my_dict = {'x': 500, 'y': 5874, 'z': 560}\n",
    "\n",
    "# Print all elements (keys and values)\n",
    "for key, value in my_dict.items():\n",
    "    print(f\"Key: {key}, Value: {value}\")"
   ]
  },
  {
   "cell_type": "code",
   "execution_count": 5,
   "id": "3e66b502-c155-4ed4-bc1c-17d2e9a36bd4",
   "metadata": {},
   "outputs": [
    {
     "name": "stdout",
     "output_type": "stream",
     "text": [
      "Merged Dictionary: {'a': 10, 'b': 8, 'c': 6, 'd': 4, 'e': 16, 'f': 14}\n"
     ]
    }
   ],
   "source": [
    "# Given dictionaries\n",
    "d1 = {'a': 10, 'b': 8}\n",
    "d2 = {'c': 6, 'd': 4}\n",
    "d3 = {'e': 16, 'f': 14}\n",
    "\n",
    "# Function to merge three dictionaries\n",
    "def merge_dicts(d1, d2, d3):\n",
    "    merged = d1.copy()\n",
    "    merged.update(d2)\n",
    "    merged.update(d3)\n",
    "    print(\"Merged Dictionary:\", merged)\n",
    "\n",
    "# Call the function\n",
    "merge_dicts(d1, d2, d3)"
   ]
  },
  {
   "cell_type": "code",
   "execution_count": 7,
   "id": "96fa2308-2bf9-44a8-b4cc-0c5f765c0b5c",
   "metadata": {},
   "outputs": [
    {
     "name": "stdout",
     "output_type": "stream",
     "text": [
      "Average value: 21.333333333333332\n"
     ]
    }
   ],
   "source": [
    "# Use this dictionary\n",
    "test_dict = {\"Arushi\": 22, \"Mani\": 21, \"Haritha\": 21}\n",
    "\n",
    "# Function to compute average\n",
    "def compute_average(d):\n",
    "    average = sum(d.values()) / len(d)\n",
    "    return average\n",
    "\n",
    "# Call the function and print result\n",
    "avg = compute_average(test_dict)\n",
    "print(\"Average value:\", avg)"
   ]
  },
  {
   "cell_type": "code",
   "execution_count": 9,
   "id": "6e77d9bc-ef7b-4a48-a602-e6055cd8f9d7",
   "metadata": {},
   "outputs": [
    {
     "name": "stdout",
     "output_type": "stream",
     "text": [
      "Minimum value is 500 and its key is 'x'\n"
     ]
    }
   ],
   "source": [
    "# Use this dictionary\n",
    "my_dict = {'x': 500, 'y': 5874, 'z': 560}\n",
    "\n",
    "# Find the minimum value and its key\n",
    "min_key = min(my_dict, key=my_dict.get)\n",
    "print(f\"Minimum value is {my_dict[min_key]} and its key is '{min_key}'\")"
   ]
  },
  {
   "cell_type": "code",
   "execution_count": null,
   "id": "39169345-d8a3-4222-9adf-e44a98b966e5",
   "metadata": {},
   "outputs": [],
   "source": []
  }
 ],
 "metadata": {
  "kernelspec": {
   "display_name": "Python [conda env:base] *",
   "language": "python",
   "name": "conda-base-py"
  },
  "language_info": {
   "codemirror_mode": {
    "name": "ipython",
    "version": 3
   },
   "file_extension": ".py",
   "mimetype": "text/x-python",
   "name": "python",
   "nbconvert_exporter": "python",
   "pygments_lexer": "ipython3",
   "version": "3.12.7"
  }
 },
 "nbformat": 4,
 "nbformat_minor": 5
}
