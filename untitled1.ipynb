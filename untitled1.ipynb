{
 "cells": [
  {
   "cell_type": "code",
   "execution_count": 1,
   "id": "23504aa9-3e8b-4bd5-bbb6-9520cfdec0d4",
   "metadata": {},
   "outputs": [
    {
     "name": "stdout",
     "output_type": "stream",
     "text": [
      "1 3 5 7 9 \n"
     ]
    }
   ],
   "source": [
    "# Define the function\n",
    "def print_numbers_with_step(start, end, step): \n",
    "    # Use a for loop with range to generate numbers from start to end\n",
    "    for number in range(start, end + 1, step):\n",
    "        print(number, end=' ')\n",
    "    print()  # for a newline at the end\n",
    "\n",
    "# Test the function\n",
    "print_numbers_with_step(1, 10, 2)"
   ]
  },
  {
   "cell_type": "code",
   "execution_count": 1,
   "id": "1cafde62-4d24-4970-ba42-8f716b04dbaa",
   "metadata": {},
   "outputs": [
    {
     "name": "stdout",
     "output_type": "stream",
     "text": [
      "[10, 6, 18, 22, 2, 26]\n"
     ]
    }
   ],
   "source": [
    "# Given list of numbers\n",
    "numbers = [2, 5, 6, 3, 9, 11, 1, 0, 13]\n",
    "\n",
    "# Define the function \n",
    "def double_odd_numbers(numbers):\n",
    "    return [num * 2 for num in numbers if num % 2 != 0]\n",
    "\n",
    "# Call the function and print the results \n",
    "result = double_odd_numbers(numbers)\n",
    "print(result)"
   ]
  },
  {
   "cell_type": "code",
   "execution_count": 3,
   "id": "8834fcd9-0d36-4ead-8a17-d60e083ee06a",
   "metadata": {},
   "outputs": [
    {
     "name": "stdout",
     "output_type": "stream",
     "text": [
      "[10, 6, 18, 22, 2, 26]\n"
     ]
    }
   ],
   "source": [
    "# Given a list\n",
    "numbers = [2, 5, 6, 3, 9, 11, 1, 0, 13]\n",
    "\n",
    "# Define the function that takes a list of integers and returns a new list \n",
    "# containing only the odd numbers, each doubled \n",
    "def double_odd_numbers(numbers):\n",
    "     # Create a new list with only odd numbers, each multiplied by 2\n",
    "    result = []\n",
    "    for num in numbers:\n",
    "        if num % 2 != 0:     # Check if the number is odd\n",
    "            result.append(num * 2)  # Double it and add to the result list\n",
    "    return result\n",
    "\n",
    "# Call the function and print the results \n",
    "doubled_odds = double_odd_numbers(numbers)\n",
    "print(doubled_odds)"
   ]
  },
  {
   "cell_type": "code",
   "execution_count": 5,
   "id": "d8f895c8-4adf-426c-8740-41c627a0a50c",
   "metadata": {},
   "outputs": [
    {
     "name": "stdout",
     "output_type": "stream",
     "text": [
      "[1, 2, 3, 4, 5, 6, 7, 8, 9, 10]\n"
     ]
    }
   ],
   "source": [
    "# Given the list of numbers with duplicates\n",
    "numbers_list = [1, 2, 3, 4, 5, 1, 2, 6, 7, 8, 9, 3, 4, 10]\n",
    "\n",
    "# Define an empty list to store unique numbers \n",
    "unique_numbers = []\n",
    "\n",
    "# Iterate through the list of numbers \n",
    "for number in numbers_list:\n",
    "    if number not in unique_numbers:\n",
    "        unique_numbers.append(number)\n",
    "\n",
    "# Print the list without duplicates \n",
    "print(unique_numbers)"
   ]
  },
  {
   "cell_type": "code",
   "execution_count": null,
   "id": "f07d7e46-dc3d-4efc-8100-21881f56de93",
   "metadata": {},
   "outputs": [],
   "source": []
  }
 ],
 "metadata": {
  "kernelspec": {
   "display_name": "Python [conda env:base] *",
   "language": "python",
   "name": "conda-base-py"
  },
  "language_info": {
   "codemirror_mode": {
    "name": "ipython",
    "version": 3
   },
   "file_extension": ".py",
   "mimetype": "text/x-python",
   "name": "python",
   "nbconvert_exporter": "python",
   "pygments_lexer": "ipython3",
   "version": "3.12.7"
  }
 },
 "nbformat": 4,
 "nbformat_minor": 5
}
